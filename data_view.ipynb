{
 "cells": [
  {
   "cell_type": "code",
   "execution_count": 1,
   "metadata": {},
   "outputs": [
    {
     "name": "stdout",
     "output_type": "stream",
     "text": [
      "../data/hdfs_loghub/HDFS_1/HDFS.log\n"
     ]
    }
   ],
   "source": [
    "import pandas as pd\n",
    "import os\n",
    "\n",
    "input_dir  = '../data/hdfs_loghub/HDFS_1/'  # The input directory of log file\n",
    "log_file   = 'HDFS.log'\n",
    "\n",
    "file_path = os.path.join(input_dir,log_file)\n",
    "print(file_path)"
   ]
  },
  {
   "cell_type": "code",
   "execution_count": 2,
   "metadata": {},
   "outputs": [],
   "source": [
    "time_info = []\n",
    "with open(file_path, \"r\" ) as f:\n",
    "    for line in f.readlines():\n",
    "        line = line.split(\" \")\n",
    "        time_info.append(line[:2])\n",
    "#         print(line)"
   ]
  },
  {
   "cell_type": "code",
   "execution_count": 3,
   "metadata": {},
   "outputs": [
    {
     "name": "stdout",
     "output_type": "stream",
     "text": [
      "     date    time\n",
      "0  081109  203518\n",
      "1  081109  203518\n",
      "2  081109  203519\n",
      "3  081109  203519\n",
      "4  081109  203519\n"
     ]
    }
   ],
   "source": [
    "time_df = pd.DataFrame(time_info, columns = [\"date\", \"time\"])\n",
    "\n",
    "print(time_df.head())"
   ]
  },
  {
   "cell_type": "code",
   "execution_count": 6,
   "metadata": {},
   "outputs": [
    {
     "data": {
      "text/plain": [
       "'235959'"
      ]
     },
     "execution_count": 6,
     "metadata": {},
     "output_type": "execute_result"
    }
   ],
   "source": [
    "time_df[\"time\"].max()"
   ]
  },
  {
   "cell_type": "code",
   "execution_count": null,
   "metadata": {},
   "outputs": [],
   "source": []
  }
 ],
 "metadata": {
  "kernelspec": {
   "display_name": "Python 3",
   "language": "python",
   "name": "python3"
  },
  "language_info": {
   "codemirror_mode": {
    "name": "ipython",
    "version": 3
   },
   "file_extension": ".py",
   "mimetype": "text/x-python",
   "name": "python",
   "nbconvert_exporter": "python",
   "pygments_lexer": "ipython3",
   "version": "3.8.3"
  }
 },
 "nbformat": 4,
 "nbformat_minor": 4
}
